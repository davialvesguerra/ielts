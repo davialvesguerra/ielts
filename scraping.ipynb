{
 "cells": [
  {
   "cell_type": "code",
   "execution_count": 43,
   "id": "65859f57",
   "metadata": {},
   "outputs": [],
   "source": [
    "import requests\n",
    "from bs4 import BeautifulSoup\n",
    "import csv\n",
    "import os\n",
    "\n",
    "\n",
    "def scrape_significado_palavra(palavra, selector_significado, selector_nivel):\n",
    "    \"\"\"\n",
    "    Faz requisição HTTP GET e extrai dados usando o seletor CSS informado.\n",
    "\n",
    "    Args:\n",
    "        url (str): URL da página a ser raspada.\n",
    "        selector (str): Seletor CSS para localizar os elementos de interesse.\n",
    "\n",
    "    Returns:\n",
    "        list[dict]: Lista de dicionários com os dados extraídos.\n",
    "    \"\"\"\n",
    "\n",
    "    headers = requests.utils.default_headers()\n",
    "\n",
    "    headers.update(\n",
    "    {\n",
    "        'User-Agent': 'Mozilla/5.0 (compatible; WebScraper/1.0)',\n",
    "    }\n",
    "    )\n",
    "\n",
    "    url = f'https://dictionary.cambridge.org/pt/dicionario/ingles/{palavra}'\n",
    "\n",
    "    response = requests.get(url, headers=headers)\n",
    "    response.raise_for_status()  # lança erro em caso de falha HTTP\n",
    "\n",
    "    soup = BeautifulSoup(response.text, 'html.parser')\n",
    "    \n",
    "    nivel = soup.select_one(selector_nivel)\n",
    "    nivel = nivel.get_text(strip=True, separator=\" \")\n",
    "    print(nivel)\n",
    "    \n",
    "    significados = soup.select(selector_significado)\n",
    "    results = []\n",
    "    for elem in significados:\n",
    "        # Exemplo: extrair texto e link\n",
    "        significado = elem.get_text(strip=True, separator=\" \")\n",
    "        results.append({'palavra': palavra, 'significado': significado, 'nivel': nivel})\n",
    "\n",
    "    return results\n",
    "\n",
    "\n",
    "def save_to_csv(data, output_file):\n",
    "    \"\"\"\n",
    "    Salva lista de dicionários em arquivo CSV.\n",
    "\n",
    "    Args:\n",
    "        data (list[dict]): Dados a serem salvos.\n",
    "        output_file (str): Caminho do arquivo CSV de saída.\n",
    "    \"\"\"\n",
    "    if not data:\n",
    "        print(\"Nenhum dado para salvar.\")\n",
    "        return\n",
    "    \n",
    "\n",
    "    # Não salvar o cabeçalho se o arquivo já existir\n",
    "    fieldnames = list(data[0].keys())\n",
    "    with open(output_file, mode='a', newline='', encoding='utf-8') as f:\n",
    "        writer = csv.DictWriter(f, fieldnames=fieldnames)\n",
    "        writer.writerows(data)\n",
    "\n",
    "\n",
    "    print(f\"Salvo {len(data)} registros em '{output_file}'\")\n"
   ]
  },
  {
   "cell_type": "code",
   "execution_count": 46,
   "id": "be5a2a26",
   "metadata": {},
   "outputs": [
    {
     "name": "stdout",
     "output_type": "stream",
     "text": [
      "B2\n",
      "Salvo 2 registros em './dados/significados.csv'\n"
     ]
    }
   ],
   "source": [
    "#pegar o significado\n",
    "palavras = ['tighten', 'loosen', 'strengthen', 'weaken','behalf']\n",
    "palavra = palavras[-1]  # Substitua pela palavra desejada\n",
    "url_alvo = f'https://dictionary.cambridge.org/pt/dicionario/ingles/{palavra}'\n",
    "selector_significado = 'div.def'  # Substitua pelo seletor correto\n",
    "selector_nivel= 'span.def-info'  # Substitua pelo seletor correto\n",
    "arquivo_saida = './dados/significados.csv'\n",
    "\n",
    "# Execução\n",
    "dados = scrape_significado_palavra(palavra, selector_significado, selector_nivel)\n",
    "save_to_csv(dados, arquivo_saida)"
   ]
  },
  {
   "cell_type": "code",
   "execution_count": 48,
   "id": "83ab659d",
   "metadata": {},
   "outputs": [
    {
     "name": "stdout",
     "output_type": "stream",
     "text": [
      "B2\n",
      "Salvo 4 registros em './dados/exemplos.csv'\n",
      "B2\n",
      "Salvo 5 registros em './dados/exemplos.csv'\n"
     ]
    }
   ],
   "source": [
    "#pegar os exemplos\n",
    "palavras = ['tighten', 'loosen', 'strengthen', 'weaken','behalf']\n",
    "palavra = palavras[-1]  # Substitua pela palavra desejada\n",
    "url_alvo = f'https://dictionary.cambridge.org/pt/dicionario/ingles/{palavra}'\n",
    "seletor_css = 'div.examp'  # Substitua pelo seletor correto\n",
    "seletor_css_hidden_examples = 'li.eg'  # Substitua pelo seletor correto\n",
    "selector_nivel= 'span.def-info' \n",
    "arquivo_saida = './dados/exemplos.csv'\n",
    "\n",
    "# Execução\n",
    "dados = scrape_significado_palavra(palavra, seletor_css, selector_nivel)\n",
    "save_to_csv(dados, arquivo_saida)\n",
    "\n",
    "dados = scrape_significado_palavra(palavra, seletor_css_hidden_examples, selector_nivel)\n",
    "save_to_csv(dados, arquivo_saida)"
   ]
  }
 ],
 "metadata": {
  "kernelspec": {
   "display_name": ".venv",
   "language": "python",
   "name": "python3"
  },
  "language_info": {
   "codemirror_mode": {
    "name": "ipython",
    "version": 3
   },
   "file_extension": ".py",
   "mimetype": "text/x-python",
   "name": "python",
   "nbconvert_exporter": "python",
   "pygments_lexer": "ipython3",
   "version": "3.12.3"
  }
 },
 "nbformat": 4,
 "nbformat_minor": 5
}
